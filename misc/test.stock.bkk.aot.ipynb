{
 "cells": [
  {
   "cell_type": "code",
   "execution_count": 3,
   "metadata": {
    "collapsed": true
   },
   "outputs": [],
   "source": [
    "#import quandl as ql\n",
    "#from datetime import datetime\n",
    "#import numpy as np\n",
    "import pandas as pd\n",
    "import matplotlib.pyplot as plt\n",
    "from googlefinance import getQuotes\n",
    "import json"
   ]
  },
  {
   "cell_type": "code",
   "execution_count": 11,
   "metadata": {},
   "outputs": [
    {
     "name": "stdout",
     "output_type": "stream",
     "text": [
      "[\n",
      "  {\n",
      "    \"ID\": \"877332529783424\",\n",
      "    \"StockSymbol\": \"AOT\",\n",
      "    \"Index\": \"BKK\",\n",
      "    \"LastTradePrice\": \"48.25\",\n",
      "    \"LastTradeWithCurrency\": \"THB48.25\",\n",
      "    \"LastTradeTime\": \"4:36PM GMT+7\",\n",
      "    \"LastTradeDateTime\": \"2017-07-18T16:36:38Z\",\n",
      "    \"LastTradeDateTimeLong\": \"Jul 18, 4:36PM GMT+7\"\n",
      "  }\n",
      "]\n"
     ]
    }
   ],
   "source": [
    "print(json.dumps(getQuotes('SET:AOT'), indent=2))"
   ]
  },
  {
   "cell_type": "code",
   "execution_count": 12,
   "metadata": {},
   "outputs": [
    {
     "name": "stdout",
     "output_type": "stream",
     "text": [
      "[{'ID': '877332529783424', 'StockSymbol': 'AOT', 'Index': 'BKK', 'LastTradePrice': '48.25', 'LastTradeWithCurrency': 'THB48.25', 'LastTradeTime': '4:36PM GMT+7', 'LastTradeDateTime': '2017-07-18T16:36:38Z', 'LastTradeDateTimeLong': 'Jul 18, 4:36PM GMT+7'}]\n"
     ]
    }
   ],
   "source": [
    "print(getQuotes('SET:AOT'))"
   ]
  },
  {
   "cell_type": "code",
   "execution_count": 5,
   "metadata": {
    "collapsed": true
   },
   "outputs": [],
   "source": [
    "#end = datetime.now()\n",
    "#start = datetime(end.year - 3, end.month, end.day)\n",
    "#data = ql.get('THAISE/INDEX')"
   ]
  },
  {
   "cell_type": "code",
   "execution_count": 6,
   "metadata": {},
   "outputs": [],
   "source": [
    "#data.info()"
   ]
  },
  {
   "cell_type": "code",
   "execution_count": 7,
   "metadata": {},
   "outputs": [],
   "source": [
    "#data.head()"
   ]
  },
  {
   "cell_type": "code",
   "execution_count": 8,
   "metadata": {},
   "outputs": [],
   "source": [
    "#data.tail()"
   ]
  },
  {
   "cell_type": "code",
   "execution_count": 9,
   "metadata": {},
   "outputs": [],
   "source": [
    "#data.Value.plot(figsize=(10, 5))\n",
    "#plt.show()"
   ]
  },
  {
   "cell_type": "code",
   "execution_count": null,
   "metadata": {
    "collapsed": true
   },
   "outputs": [],
   "source": []
  }
 ],
 "metadata": {
  "kernelspec": {
   "display_name": "Python 3",
   "language": "python",
   "name": "python3"
  },
  "language_info": {
   "codemirror_mode": {
    "name": "ipython",
    "version": 3
   },
   "file_extension": ".py",
   "mimetype": "text/x-python",
   "name": "python",
   "nbconvert_exporter": "python",
   "pygments_lexer": "ipython3",
   "version": "3.6.1"
  }
 },
 "nbformat": 4,
 "nbformat_minor": 2
}
