{
 "cells": [
  {
   "cell_type": "markdown",
   "metadata": {},
   "source": [
    "List & Tuple\n",
    "เป็นโครงสร้างข้อมูลที่มีการเก็บข้อมูลตามลำดับเหมือนกัน โดยชนิดของข้อมูลที่จัดเก็บไม่จำเป็นต้องเป็นชนิดเดียวกัน สามารถเข้าถึงตำแหน่งของข้อมูลภายในด้วยดัชนี แต่มีความแตกต่างที่ List สามารถแก้ไขข้อมูลได้ ส่วน Tuple ใช้เก็บและเรียกใช้โดยไม่สามารถแก้ไขหรือเปลี่ยนแปลงข้อมูลภายในได้"
   ]
  },
  {
   "cell_type": "code",
   "execution_count": 1,
   "metadata": {},
   "outputs": [
    {
     "data": {
      "text/plain": [
       "[5, 0.5, 'A', 'ABC', ['B', 3, 0.75], (404, 'Not found')]"
      ]
     },
     "execution_count": 1,
     "metadata": {},
     "output_type": "execute_result"
    }
   ],
   "source": [
    "my_list = [5, 0.5, 'A', 'ABC', ['B', 3, 0.75], (404, 'Not found')]\n",
    "my_list"
   ]
  },
  {
   "cell_type": "code",
   "execution_count": 2,
   "metadata": {},
   "outputs": [
    {
     "data": {
      "text/plain": [
       "(15, 0.97, 'B', 'XYZ', [2, 3], (404, 'Not found'))"
      ]
     },
     "execution_count": 2,
     "metadata": {},
     "output_type": "execute_result"
    }
   ],
   "source": [
    "my_tuple = (15, 0.97, 'B', 'XYZ', [2 , 3], (404, 'Not found'))\n",
    "my_tuple"
   ]
  },
  {
   "cell_type": "markdown",
   "metadata": {},
   "source": [
    "การเข้าถึงตำแหน่งข้อมูลของ List และ Tuple ทำได้โดยวิธีเดียวกันโดยการอ้างอิงลำดับของดัชนีภายในเครื่องหมาย []\n",
    "ลำดับของดัชนีเริ่มต้นที่ 0"
   ]
  },
  {
   "cell_type": "code",
   "execution_count": 3,
   "metadata": {},
   "outputs": [
    {
     "name": "stdout",
     "output_type": "stream",
     "text": [
      "ABC\n",
      "0.97\n"
     ]
    }
   ],
   "source": [
    "print(my_list[3])\n",
    "print(my_tuple[1])"
   ]
  },
  {
   "cell_type": "markdown",
   "metadata": {},
   "source": [
    "เราสามารถเข้าถึงข้อมูลโดยใช้เลขดัชนีเป็นจำนวนที่มีค่าลบได้ โดยเริ่มจาก -1 จะอ้างอิงสมาชิกตัวท้ายสุด ต่อมา -2 จะอ้างอิงสมาชิกลำดับก่อนหน้าลำดับสุดท้าย"
   ]
  },
  {
   "cell_type": "code",
   "execution_count": 4,
   "metadata": {},
   "outputs": [
    {
     "name": "stdout",
     "output_type": "stream",
     "text": [
      "(404, 'Not found')\n",
      "A\n"
     ]
    }
   ],
   "source": [
    "print(my_list[-1])\n",
    "print(my_list[-4])"
   ]
  },
  {
   "cell_type": "markdown",
   "metadata": {},
   "source": [
    "เราสามารถเข้าถึงข้อมูลครั้งละหลายๆ ตัวได้โดยการอ้างอิงดัชนีลำดับเริ่มต้น และลำดับสิ้นสุดภายในเครื่องหมาย [ดัชนีลำดับเริ่มต้น:ดัชนีลำดับสุดท้าย] โดยข้อมูลที่ได้กลับมาจะเริ่มต้นที่ ข้อมูลของดัชนีลำดับเริ่มต้น ถึง ข้อมูลตัวก่อนหน้าของดัชนีลำดับสุดท้าย\n",
    "ถ้าเราไม่กำหนด ดัชนีลำดับเริ่มต้น จะเป็นการเริ่มต้นที่ดัชนีลำดับที่ 0\n",
    "ถ้าเราไม่กำหนด ดัชนีลำดับสุดท้าย จะเป็นการสิ้นสุดที่ดัชนีลำดับสุดท้าย"
   ]
  },
  {
   "cell_type": "code",
   "execution_count": 5,
   "metadata": {},
   "outputs": [
    {
     "name": "stdout",
     "output_type": "stream",
     "text": [
      "[1, 2, 3, 4]\n",
      "[0, 1, 2, 3, 4]\n",
      "[5, 6, 7, 8, 9]\n"
     ]
    }
   ],
   "source": [
    "my_list = [0, 1, 2, 3, 4, 5, 6, 7, 8, 9]\n",
    "print(my_list[1:5])\n",
    "print(my_list[:5])\n",
    "print(my_list[5:])"
   ]
  },
  {
   "cell_type": "markdown",
   "metadata": {},
   "source": [
    "การเข้าถึงข้อมูลครั้งละหลายๆ ตัวนั้นเราสามารถกำหนดสเตปของการดึงข้อมูลออกมาได้ดังนี้ [ดัชนีลำดับเริ่มต้น:ดัชนีลำดับสุดท้าย:สเตป]"
   ]
  },
  {
   "cell_type": "code",
   "execution_count": 6,
   "metadata": {},
   "outputs": [
    {
     "data": {
      "text/plain": [
       "[0, 2, 4, 6, 8]"
      ]
     },
     "execution_count": 6,
     "metadata": {},
     "output_type": "execute_result"
    }
   ],
   "source": [
    "my_list[::2]"
   ]
  },
  {
   "cell_type": "markdown",
   "metadata": {},
   "source": [
    "เราสามารถกำหนดสเตปเป็น 'ลบ' ได้"
   ]
  },
  {
   "cell_type": "code",
   "execution_count": 7,
   "metadata": {},
   "outputs": [
    {
     "name": "stdout",
     "output_type": "stream",
     "text": [
      "[0, 1, 2, 3, 4, 5, 6, 7, 8, 9]\n",
      "[9, 8, 7, 6, 5, 4, 3, 2, 1, 0]\n",
      "[8, 7, 6]\n",
      "[8, 7, 6]\n"
     ]
    }
   ],
   "source": [
    "print(my_list[::])\n",
    "print(my_list[::-1])\n",
    "print(my_list[-2:-5:-1])\n",
    "print(my_list[-2:5:-1])"
   ]
  },
  {
   "cell_type": "markdown",
   "metadata": {},
   "source": [
    "เราสามารถแก้ไขข้อมูลภายใน List ได้โดยการอ้างอิงดัชนีดังนี้"
   ]
  },
  {
   "cell_type": "code",
   "execution_count": 8,
   "metadata": {},
   "outputs": [
    {
     "name": "stdout",
     "output_type": "stream",
     "text": [
      "[0, 1, 2, 3, 4, 5, 6, 7, 8, 9]\n",
      "[0, 1, 2, 3, 4, 'Fixed', (1, 2, 3), 'A']\n"
     ]
    }
   ],
   "source": [
    "print(my_list)\n",
    "my_list[5] = 'Fixed'\n",
    "my_list[6] = (1,2,3)\n",
    "my_list[7:] = 'A'\n",
    "print(my_list)"
   ]
  },
  {
   "cell_type": "markdown",
   "metadata": {},
   "source": [
    "การทำงานร่วมกับการคำนวณ เช่นการคูณกับค่าคงที่ จะเป็นการสร้าง List หรือ Tuple ใหม่ขึ้นมาโดยนำข้อมูลเดิมมาต่อกัน"
   ]
  },
  {
   "cell_type": "code",
   "execution_count": 9,
   "metadata": {},
   "outputs": [
    {
     "name": "stdout",
     "output_type": "stream",
     "text": [
      "[0, 1, 2, 3, 4, 0, 1, 2, 3, 4]\n",
      "(0, 1, 2, 3, 4, 0, 1, 2, 3, 4)\n",
      "[0, 1, 2, 3, 4]\n",
      "(0, 1, 2, 3, 4)\n"
     ]
    }
   ],
   "source": [
    "my_list = [0, 1, 2, 3, 4]\n",
    "my_tuple = (0, 1, 2, 3, 4)\n",
    "print(my_list * 2)\n",
    "print(my_tuple * 2)\n",
    "print(my_list)\n",
    "print(my_tuple)"
   ]
  },
  {
   "cell_type": "markdown",
   "metadata": {},
   "source": [
    "การทำงานร่วมกับการคำนวณ เช่นการบวกด้วย List/Tuple อีกตัว จะเป็นการสร้าง List/Tuple ใหม่ขึ้นมาโดยนำข้อมูลใหม่มาต่อท้ายข้อมูลเดิม"
   ]
  },
  {
   "cell_type": "code",
   "execution_count": 10,
   "metadata": {},
   "outputs": [
    {
     "name": "stdout",
     "output_type": "stream",
     "text": [
      "[0, 1, 2, 3, 4, 2, 3]\n",
      "(0, 1, 2, 3, 4, 2, 3)\n"
     ]
    }
   ],
   "source": [
    "print(my_list + [2 ,3])\n",
    "print(my_tuple + (2 ,3))"
   ]
  }
 ],
 "metadata": {
  "kernelspec": {
   "display_name": "Python 3",
   "language": "python",
   "name": "python3"
  },
  "language_info": {
   "codemirror_mode": {
    "name": "ipython",
    "version": 3
   },
   "file_extension": ".py",
   "mimetype": "text/x-python",
   "name": "python",
   "nbconvert_exporter": "python",
   "pygments_lexer": "ipython3",
   "version": "3.6.1"
  }
 },
 "nbformat": 4,
 "nbformat_minor": 2
}
